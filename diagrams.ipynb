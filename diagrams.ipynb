{
 "cells": [
  {
   "cell_type": "raw",
   "metadata": {},
   "source": [
    "# Architecture diagrams"
   ]
  },
  {
   "cell_type": "markdown",
   "metadata": {},
   "source": [
    "## Mermaid charts are supported as well!\n",
    "\n",
    "\n",
    "### Flow chart\n",
    "\n",
    "\n",
    "```mermaid\n",
    "flowchart LR\n",
    "\n",
    "A[Hard] -->|Text| B(Round)\n",
    "B --> C{Decision}\n",
    "C -->|One| D[Result 1]\n",
    "C -->|Two| E[Result 2]\n",
    "```\n",
    "\n",
    "### Sequence\n",
    "\n",
    "```mermaid\n",
    "sequenceDiagram\n",
    "    Alice->>Bob: Hello Bob, how are you ?\n",
    "    Bob->>Alice: Fine, thank you. And you?\n",
    "    create participant Carl\n",
    "    Alice->>Carl: Hi Carl!\n",
    "    create actor D as Donald\n",
    "    Carl->>D: Hi!\n",
    "    destroy Carl\n",
    "    Alice-xCarl: We are too many\n",
    "    destroy Bob\n",
    "    Bob->>Alice: I agree\n",
    "```\n",
    "\n",
    "### Journeys\n",
    "\n",
    "```mermaid\n",
    "journey\n",
    "    title My working day\n",
    "    section Go to work\n",
    "      Make tea: 5: Me\n",
    "      Go upstairs: 3: Me\n",
    "      Do work: 1: Me, Cat\n",
    "    section Go home\n",
    "      Go downstairs: 5: Me\n",
    "      Sit down: 5: Me\n",
    "```"
   ]
  },
  {
   "cell_type": "markdown",
   "metadata": {},
   "source": [
    "## Diagrams support"
   ]
  },
  {
   "cell_type": "code",
   "execution_count": 11,
   "metadata": {},
   "outputs": [],
   "source": [
    "%%capture\n",
    "from diagrams import Cluster, Diagram\n",
    "from diagrams.gcp.analytics import BigQuery, Dataflow, PubSub\n",
    "from diagrams.gcp.compute import AppEngine, Functions\n",
    "from diagrams.gcp.database import BigTable\n",
    "from diagrams.gcp.iot import IotCore\n",
    "from diagrams.gcp.storage import GCS\n",
    "\n",
    "with Diagram(\"Message Collecting\", show=False) as diag:\n",
    "    pubsub = PubSub(\"pubsub\")\n",
    "\n",
    "    with Cluster(\"Source of Data\"):\n",
    "        [IotCore(\"core1\"),\n",
    "         IotCore(\"core2\"),\n",
    "         IotCore(\"core3\")] >> pubsub\n",
    "\n",
    "    with Cluster(\"Targets\"):\n",
    "        with Cluster(\"Data Flow\"):\n",
    "            flow = Dataflow(\"data flow\")\n",
    "\n",
    "        with Cluster(\"Data Lake\"):\n",
    "            flow >> [BigQuery(\"bq\"),\n",
    "                     GCS(\"storage\")]\n",
    "\n",
    "        with Cluster(\"Event Driven\"):\n",
    "            with Cluster(\"Processing\"):\n",
    "                flow >> AppEngine(\"engine\") >> BigTable(\"bigtable\")\n",
    "\n",
    "            with Cluster(\"Serverless\"):\n",
    "                flow >> Functions(\"func\") >> AppEngine(\"appengine\")\n",
    "\n",
    "    pubsub >> flow\n",
    "diag"
   ]
  },
  {
   "cell_type": "markdown",
   "metadata": {},
   "source": [
    "![Message collecting](./message_collecting.png)"
   ]
  },
  {
   "cell_type": "code",
   "execution_count": 12,
   "metadata": {},
   "outputs": [],
   "source": [
    "%%capture\n",
    "\n",
    "from diagrams import Diagram\n",
    "from diagrams.aws.compute import EC2\n",
    "from diagrams.aws.database import RDS\n",
    "from diagrams.aws.network import ELB\n",
    "\n",
    "with Diagram(\"Workers\", show=False, direction=\"TB\") as diag:\n",
    "    lb = ELB(\"lb\")\n",
    "    db = RDS(\"events\")\n",
    "    lb >> EC2(\"worker1\") >> db\n",
    "    lb >> EC2(\"worker2\") >> db\n",
    "    lb >> EC2(\"worker3\") >> db\n",
    "    lb >> EC2(\"worker4\") >> db\n",
    "    lb >> EC2(\"worker5\") >> db\n",
    "diag"
   ]
  },
  {
   "cell_type": "markdown",
   "metadata": {},
   "source": [
    "![Workers](./workers.png)"
   ]
  }
 ],
 "metadata": {
  "kernelspec": {
   "display_name": "Python 3 (ipykernel)",
   "language": "python",
   "name": "python3"
  },
  "language_info": {
   "codemirror_mode": {
    "name": "ipython",
    "version": 3
   },
   "file_extension": ".py",
   "mimetype": "text/x-python",
   "name": "python",
   "nbconvert_exporter": "python",
   "pygments_lexer": "ipython3",
   "version": "3.12.3"
  }
 },
 "nbformat": 4,
 "nbformat_minor": 4
}
